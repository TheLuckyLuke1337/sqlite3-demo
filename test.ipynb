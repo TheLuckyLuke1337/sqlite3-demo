{
 "cells": [
  {
   "cell_type": "code",
   "execution_count": 1,
   "metadata": {},
   "outputs": [
    {
     "name": "stdout",
     "output_type": "stream",
     "text": [
      "5.6703744191844314e-08 W / (m2 K4)\n"
     ]
    },
    {
     "name": "stderr",
     "output_type": "stream",
     "text": [
      "d:\\GitRepos\\sqlite3-demo\\diameter.py:8: RuntimeWarning: invalid value encountered in sqrt\n",
      "  return 2*np.sqrt(luminosity / (4 * np.pi * sigma_sb.value * temperature**4))\n"
     ]
    },
    {
     "data": {
      "text/html": [
       "<div><i>Table length=5</i>\n",
       "<table id=\"table2333857363632\" class=\"table-striped table-bordered table-condensed\">\n",
       "<thead><tr><th>MAIN_ID</th><th>Diameter_diameter</th><th>DIAMETER_BV</th><th>DIAMETER_Fe_H</th><th>TEMPERATURE</th><th>x</th><th>y</th><th>z</th><th>Fe_H_Teff</th></tr></thead>\n",
       "<thead><tr><th></th><th></th><th></th><th></th><th></th><th></th><th></th><th></th><th>unit-degK</th></tr></thead>\n",
       "<thead><tr><th>object</th><th>float64</th><th>float64</th><th>float64</th><th>float32</th><th>float64</th><th>float64</th><th>float64</th><th>int32</th></tr></thead>\n",
       "<tr><td>Wolf  359</td><td>--</td><td>6.305184109759778e+16</td><td>1.4298854018384087e+19</td><td>3134.4934</td><td>-2.299345247817044</td><td>0.6540962251168742</td><td>0.29414880524834797</td><td>3027</td></tr>\n",
       "<tr><td>NAME Barnard&apos;s star</td><td>--</td><td>2.447140316760932e+17</td><td>--</td><td>3478.695</td><td>-0.017424308621627423</td><td>-1.8219864907720569</td><td>0.14958897323393752</td><td>3233</td></tr>\n",
       "<tr><td>NAME Proxima Centauri</td><td>--</td><td>8.820206858189578e+16</td><td>3.1364467068002087e+19</td><td>3368.0872</td><td>-0.47450313821809476</td><td>-0.3631649866880336</td><td>-1.1566769532868977</td><td>3306</td></tr>\n",
       "<tr><td>NAME Luhman 16</td><td>--</td><td>4513896835287232.0</td><td>--</td><td>5742.13</td><td>-1.1383323669817245</td><td>0.36265753318559546</td><td>-1.603957273715707</td><td>0</td></tr>\n",
       "<tr><td>Gaia DR2 1824801659879180544</td><td>--</td><td>--</td><td>--</td><td>--</td><td>0.5841512143138302</td><td>-1.128479666288932</td><td>0.46349515810642317</td><td>0</td></tr>\n",
       "</table></div>"
      ],
      "text/plain": [
       "<Table length=5>\n",
       "          MAIN_ID            Diameter_diameter ...          z          Fe_H_Teff\n",
       "                                               ...                     unit-degK\n",
       "           object                 float64      ...       float64         int32  \n",
       "---------------------------- ----------------- ... ------------------- ---------\n",
       "                   Wolf  359                -- ... 0.29414880524834797      3027\n",
       "         NAME Barnard's star                -- ... 0.14958897323393752      3233\n",
       "       NAME Proxima Centauri                -- ... -1.1566769532868977      3306\n",
       "              NAME Luhman 16                -- ...  -1.603957273715707         0\n",
       "Gaia DR2 1824801659879180544                -- ... 0.46349515810642317         0"
      ]
     },
     "execution_count": 1,
     "metadata": {},
     "output_type": "execute_result"
    }
   ],
   "source": [
    "from astroquery.simbad import Simbad\n",
    "from ballesteros import ballesteros\n",
    "from cartesian import polar2cartesian\n",
    "from luminosity import luminosity\n",
    "from diameter import diameter\n",
    "\n",
    "# test star \"* tet Per\"\n",
    "parsec_distance = 2.5  # 15.33\n",
    "Simbad.add_votable_fields(\"distance\", \"diameter\", \"flux(R)\", \"flux(G)\", \"flux(B)\", \"flux(V)\", \"fe_h\")\n",
    "result_table = Simbad.query_criteria(\n",
    "    \"Distance.unit = 'pc'\",\n",
    "    f\"Distance.distance < {parsec_distance}\")\n",
    "result_table[\"TEMPERATURE\"] = ballesteros(result_table[\"FLUX_B\"], result_table[\"FLUX_V\"])\n",
    "result_table[\"x\"], result_table[\"y\"], result_table[\"z\"] = polar2cartesian(result_table[\"RA\"], result_table[\"DEC\"], result_table[\"Distance_distance\"])\n",
    "result_table[\"LUMINOSITY\"] = luminosity(result_table[\"FLUX_V\"], result_table[\"Distance_distance\"])\n",
    "result_table[\"DIAMETER_BV\"] = diameter(result_table[\"LUMINOSITY\"], result_table[\"TEMPERATURE\"])\n",
    "result_table[\"DIAMETER_Fe_H\"] = diameter(result_table[\"LUMINOSITY\"], result_table[\"Fe_H_Teff\"])\n",
    "result_table[\"MAIN_ID\", \"Diameter_diameter\", \"DIAMETER_BV\", \"DIAMETER_Fe_H\", \"TEMPERATURE\", \"x\", \"y\", \"z\", \"Fe_H_Teff\"]\n"
   ]
  }
 ],
 "metadata": {
  "kernelspec": {
   "display_name": "Python 3",
   "language": "python",
   "name": "python3"
  },
  "language_info": {
   "codemirror_mode": {
    "name": "ipython",
    "version": 3
   },
   "file_extension": ".py",
   "mimetype": "text/x-python",
   "name": "python",
   "nbconvert_exporter": "python",
   "pygments_lexer": "ipython3",
   "version": "3.12.0"
  }
 },
 "nbformat": 4,
 "nbformat_minor": 2
}
