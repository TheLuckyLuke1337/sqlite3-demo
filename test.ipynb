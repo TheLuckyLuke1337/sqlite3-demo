{
 "cells": [
  {
   "cell_type": "code",
   "execution_count": 1,
   "metadata": {},
   "outputs": [
    {
     "name": "stdout",
     "output_type": "stream",
     "text": [
      "5.6703744191844314e-08 W / (m2 K4)\n"
     ]
    },
    {
     "ename": "KeyError",
     "evalue": "'mesDiameter: no such field'",
     "output_type": "error",
     "traceback": [
      "\u001b[1;31m---------------------------------------------------------------------------\u001b[0m",
      "\u001b[1;31mKeyError\u001b[0m                                  Traceback (most recent call last)",
      "Cell \u001b[1;32mIn[1], line 9\u001b[0m\n\u001b[0;32m      7\u001b[0m \u001b[38;5;66;03m# test star \"* tet Per\"\u001b[39;00m\n\u001b[0;32m      8\u001b[0m parsec_distance \u001b[38;5;241m=\u001b[39m \u001b[38;5;241m2.5\u001b[39m  \u001b[38;5;66;03m# 15.33\u001b[39;00m\n\u001b[1;32m----> 9\u001b[0m \u001b[43mSimbad\u001b[49m\u001b[38;5;241;43m.\u001b[39;49m\u001b[43madd_votable_fields\u001b[49m\u001b[43m(\u001b[49m\u001b[38;5;124;43m\"\u001b[39;49m\u001b[38;5;124;43mdistance\u001b[39;49m\u001b[38;5;124;43m\"\u001b[39;49m\u001b[43m,\u001b[49m\u001b[43m \u001b[49m\u001b[38;5;124;43m\"\u001b[39;49m\u001b[38;5;124;43mdiameter\u001b[39;49m\u001b[38;5;124;43m\"\u001b[39;49m\u001b[43m,\u001b[49m\u001b[43m \u001b[49m\u001b[38;5;124;43m\"\u001b[39;49m\u001b[38;5;124;43mflux(R)\u001b[39;49m\u001b[38;5;124;43m\"\u001b[39;49m\u001b[43m,\u001b[49m\u001b[43m \u001b[49m\u001b[38;5;124;43m\"\u001b[39;49m\u001b[38;5;124;43mflux(G)\u001b[39;49m\u001b[38;5;124;43m\"\u001b[39;49m\u001b[43m,\u001b[49m\u001b[43m \u001b[49m\u001b[38;5;124;43m\"\u001b[39;49m\u001b[38;5;124;43mflux(B)\u001b[39;49m\u001b[38;5;124;43m\"\u001b[39;49m\u001b[43m,\u001b[49m\u001b[43m \u001b[49m\u001b[38;5;124;43m\"\u001b[39;49m\u001b[38;5;124;43mflux(V)\u001b[39;49m\u001b[38;5;124;43m\"\u001b[39;49m\u001b[43m,\u001b[49m\u001b[43m \u001b[49m\u001b[38;5;124;43m\"\u001b[39;49m\u001b[38;5;124;43mfe_h\u001b[39;49m\u001b[38;5;124;43m\"\u001b[39;49m\u001b[43m,\u001b[49m\u001b[43m \u001b[49m\u001b[38;5;124;43m\"\u001b[39;49m\u001b[38;5;124;43mmesDiameter\u001b[39;49m\u001b[38;5;124;43m\"\u001b[39;49m\u001b[43m)\u001b[49m\n\u001b[0;32m     10\u001b[0m result_table \u001b[38;5;241m=\u001b[39m Simbad\u001b[38;5;241m.\u001b[39mquery_criteria(\n\u001b[0;32m     11\u001b[0m     \u001b[38;5;124m\"\u001b[39m\u001b[38;5;124mDistance.unit = \u001b[39m\u001b[38;5;124m'\u001b[39m\u001b[38;5;124mpc\u001b[39m\u001b[38;5;124m'\u001b[39m\u001b[38;5;124m\"\u001b[39m,\n\u001b[0;32m     12\u001b[0m     \u001b[38;5;124mf\u001b[39m\u001b[38;5;124m\"\u001b[39m\u001b[38;5;124mDistance.distance < \u001b[39m\u001b[38;5;132;01m{\u001b[39;00mparsec_distance\u001b[38;5;132;01m}\u001b[39;00m\u001b[38;5;124m\"\u001b[39m)\n\u001b[0;32m     13\u001b[0m result_table[\u001b[38;5;124m\"\u001b[39m\u001b[38;5;124mTEMPERATURE\u001b[39m\u001b[38;5;124m\"\u001b[39m] \u001b[38;5;241m=\u001b[39m ballesteros(result_table[\u001b[38;5;124m\"\u001b[39m\u001b[38;5;124mFLUX_B\u001b[39m\u001b[38;5;124m\"\u001b[39m], result_table[\u001b[38;5;124m\"\u001b[39m\u001b[38;5;124mFLUX_V\u001b[39m\u001b[38;5;124m\"\u001b[39m])\n",
      "File \u001b[1;32mc:\\Users\\Hampus\\AppData\\Local\\Programs\\Python\\Python312\\Lib\\site-packages\\astroquery\\simbad\\core.py:416\u001b[0m, in \u001b[0;36mSimbadClass.add_votable_fields\u001b[1;34m(self, *args)\u001b[0m\n\u001b[0;32m    414\u001b[0m sf \u001b[38;5;241m=\u001b[39m strip_field(field)\n\u001b[0;32m    415\u001b[0m \u001b[38;5;28;01mif\u001b[39;00m sf \u001b[38;5;129;01mnot\u001b[39;00m \u001b[38;5;129;01min\u001b[39;00m fields_dict:\n\u001b[1;32m--> 416\u001b[0m     \u001b[38;5;28;01mraise\u001b[39;00m \u001b[38;5;167;01mKeyError\u001b[39;00m(\u001b[38;5;124m\"\u001b[39m\u001b[38;5;132;01m{field}\u001b[39;00m\u001b[38;5;124m: no such field\u001b[39m\u001b[38;5;124m\"\u001b[39m\u001b[38;5;241m.\u001b[39mformat(field\u001b[38;5;241m=\u001b[39mfield))\n\u001b[0;32m    417\u001b[0m \u001b[38;5;28;01melse\u001b[39;00m:\n\u001b[0;32m    418\u001b[0m     \u001b[38;5;28mself\u001b[39m\u001b[38;5;241m.\u001b[39m_VOTABLE_FIELDS\u001b[38;5;241m.\u001b[39mappend(field)\n",
      "\u001b[1;31mKeyError\u001b[0m: 'mesDiameter: no such field'"
     ]
    }
   ],
   "source": [
    "from astroquery.simbad import Simbad\n",
    "from ballesteros import ballesteros\n",
    "from cartesian import polar2cartesian\n",
    "from luminosity import luminosity\n",
    "from diameter import diameter\n",
    "\n",
    "# test star \"* tet Per\"\n",
    "parsec_distance = 2.5  # 15.33\n",
    "Simbad.add_votable_fields(\"distance\", \"diameter\", \"flux(R)\", \"flux(G)\", \"flux(B)\", \"flux(V)\", \"fe_h\")\n",
    "result_table = Simbad.query_criteria(\n",
    "    \"Distance.unit = 'pc'\",\n",
    "    f\"Distance.distance < {parsec_distance}\")\n",
    "result_table[\"TEMPERATURE\"] = ballesteros(result_table[\"FLUX_B\"], result_table[\"FLUX_V\"])\n",
    "result_table[\"x\"], result_table[\"y\"], result_table[\"z\"] = polar2cartesian(result_table[\"RA\"], result_table[\"DEC\"], result_table[\"Distance_distance\"])\n",
    "result_table[\"LUMINOSITY\"] = luminosity(result_table[\"FLUX_V\"], result_table[\"Distance_distance\"])\n",
    "result_table[\"DIAMETER_BV\"] = diameter(result_table[\"LUMINOSITY\"], result_table[\"TEMPERATURE\"])\n",
    "result_table[\"DIAMETER_Fe_H\"] = diameter(result_table[\"LUMINOSITY\"], result_table[\"Fe_H_Teff\"])\n",
    "result_table[\"MAIN_ID\", \"Diameter_diameter\", \"DIAMETER_BV\", \"DIAMETER_Fe_H\", \"TEMPERATURE\", \"x\", \"y\", \"z\", \"Fe_H_Teff\", \"mesDiameter\"]\n"
   ]
  }
 ],
 "metadata": {
  "kernelspec": {
   "display_name": "Python 3",
   "language": "python",
   "name": "python3"
  },
  "language_info": {
   "codemirror_mode": {
    "name": "ipython",
    "version": 3
   },
   "file_extension": ".py",
   "mimetype": "text/x-python",
   "name": "python",
   "nbconvert_exporter": "python",
   "pygments_lexer": "ipython3",
   "version": "3.12.0"
  }
 },
 "nbformat": 4,
 "nbformat_minor": 2
}
