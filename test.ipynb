{
 "cells": [
  {
   "cell_type": "code",
   "execution_count": 1,
   "metadata": {},
   "outputs": [
    {
     "name": "stdout",
     "output_type": "stream",
     "text": [
      "<class 'numpy.ndarray'> <class 'numpy.ndarray'>\n"
     ]
    },
    {
     "ename": "UFuncTypeError",
     "evalue": "ufunc 'multiply' did not contain a loop with signature matching types (dtype([('RA', '<U13'), ('DEC', '<U13'), ('Distance_distance', '<f8')]), dtype('float64')) -> None",
     "output_type": "error",
     "traceback": [
      "\u001b[1;31m---------------------------------------------------------------------------\u001b[0m",
      "\u001b[1;31mUFuncTypeError\u001b[0m                            Traceback (most recent call last)",
      "Cell \u001b[1;32mIn[1], line 12\u001b[0m\n\u001b[0;32m      8\u001b[0m result_table \u001b[38;5;241m=\u001b[39m Simbad\u001b[38;5;241m.\u001b[39mquery_criteria(\n\u001b[0;32m      9\u001b[0m     \u001b[38;5;124m\"\u001b[39m\u001b[38;5;124mDistance.unit = \u001b[39m\u001b[38;5;124m'\u001b[39m\u001b[38;5;124mpc\u001b[39m\u001b[38;5;124m'\u001b[39m\u001b[38;5;124m\"\u001b[39m,\n\u001b[0;32m     10\u001b[0m     \u001b[38;5;124mf\u001b[39m\u001b[38;5;124m\"\u001b[39m\u001b[38;5;124mDistance.distance < \u001b[39m\u001b[38;5;132;01m{\u001b[39;00mparsec_distance\u001b[38;5;132;01m}\u001b[39;00m\u001b[38;5;124m\"\u001b[39m)\n\u001b[0;32m     11\u001b[0m result_table[\u001b[38;5;124m\"\u001b[39m\u001b[38;5;124mTEMPERATURE\u001b[39m\u001b[38;5;124m\"\u001b[39m] \u001b[38;5;241m=\u001b[39m ballesteros(result_table[\u001b[38;5;124m\"\u001b[39m\u001b[38;5;124mFLUX_B\u001b[39m\u001b[38;5;124m\"\u001b[39m], result_table[\u001b[38;5;124m\"\u001b[39m\u001b[38;5;124mFLUX_V\u001b[39m\u001b[38;5;124m\"\u001b[39m])\n\u001b[1;32m---> 12\u001b[0m result_table[\u001b[38;5;124m\"\u001b[39m\u001b[38;5;124mx\u001b[39m\u001b[38;5;124m\"\u001b[39m, \u001b[38;5;124m\"\u001b[39m\u001b[38;5;124my\u001b[39m\u001b[38;5;124m\"\u001b[39m, \u001b[38;5;124m\"\u001b[39m\u001b[38;5;124mz\u001b[39m\u001b[38;5;124m\"\u001b[39m] \u001b[38;5;241m=\u001b[39m \u001b[43mpolar2cartesian\u001b[49m\u001b[43m(\u001b[49m\u001b[38;5;241;43m*\u001b[39;49m\u001b[43mresult_table\u001b[49m\u001b[43m[\u001b[49m\u001b[38;5;124;43m\"\u001b[39;49m\u001b[38;5;124;43mRA\u001b[39;49m\u001b[38;5;124;43m\"\u001b[39;49m\u001b[43m,\u001b[49m\u001b[43m \u001b[49m\u001b[38;5;124;43m\"\u001b[39;49m\u001b[38;5;124;43mDEC\u001b[39;49m\u001b[38;5;124;43m\"\u001b[39;49m\u001b[43m,\u001b[49m\u001b[43m \u001b[49m\u001b[38;5;124;43m\"\u001b[39;49m\u001b[38;5;124;43mDistance_distance\u001b[39;49m\u001b[38;5;124;43m\"\u001b[39;49m\u001b[43m]\u001b[49m\u001b[43m)\u001b[49m\n\u001b[0;32m     13\u001b[0m result_table[\u001b[38;5;124m\"\u001b[39m\u001b[38;5;124mMAIN_ID\u001b[39m\u001b[38;5;124m\"\u001b[39m, \u001b[38;5;124m\"\u001b[39m\u001b[38;5;124mDiameter_diameter\u001b[39m\u001b[38;5;124m\"\u001b[39m, \u001b[38;5;124m\"\u001b[39m\u001b[38;5;124mDistance_distance\u001b[39m\u001b[38;5;124m\"\u001b[39m, \u001b[38;5;124m\"\u001b[39m\u001b[38;5;124mDistance_unit\u001b[39m\u001b[38;5;124m\"\u001b[39m, \u001b[38;5;124m\"\u001b[39m\u001b[38;5;124mRA\u001b[39m\u001b[38;5;124m\"\u001b[39m, \u001b[38;5;124m\"\u001b[39m\u001b[38;5;124mDEC\u001b[39m\u001b[38;5;124m\"\u001b[39m, \u001b[38;5;124m\"\u001b[39m\u001b[38;5;124mTEMPERATURE\u001b[39m\u001b[38;5;124m\"\u001b[39m]\n",
      "File \u001b[1;32md:\\GitRepos\\sqlite3-demo\\cartesian.py:25\u001b[0m, in \u001b[0;36mpolar2cartesian\u001b[1;34m(ra, dec, distance)\u001b[0m\n\u001b[0;32m     23\u001b[0m dec_rad \u001b[38;5;241m=\u001b[39m dec\u001b[38;5;241m.\u001b[39mradian\n\u001b[0;32m     24\u001b[0m \u001b[38;5;28mprint\u001b[39m(\u001b[38;5;28mtype\u001b[39m(ra_rad), \u001b[38;5;28mtype\u001b[39m(dec_rad))\n\u001b[1;32m---> 25\u001b[0m x \u001b[38;5;241m=\u001b[39m \u001b[43mdistance\u001b[49m\u001b[43m \u001b[49m\u001b[38;5;241;43m*\u001b[39;49m\u001b[43m \u001b[49m\u001b[43mnp\u001b[49m\u001b[38;5;241;43m.\u001b[39;49m\u001b[43mcos\u001b[49m\u001b[43m(\u001b[49m\u001b[43mdec_rad\u001b[49m\u001b[43m)\u001b[49m \u001b[38;5;241m*\u001b[39m np\u001b[38;5;241m.\u001b[39mcos(ra_rad)\n\u001b[0;32m     26\u001b[0m y \u001b[38;5;241m=\u001b[39m distance \u001b[38;5;241m*\u001b[39m np\u001b[38;5;241m.\u001b[39mcos(dec_rad) \u001b[38;5;241m*\u001b[39m np\u001b[38;5;241m.\u001b[39msin(ra_rad)\n\u001b[0;32m     27\u001b[0m z \u001b[38;5;241m=\u001b[39m distance \u001b[38;5;241m*\u001b[39m np\u001b[38;5;241m.\u001b[39msin(dec_rad)\n",
      "\u001b[1;31mUFuncTypeError\u001b[0m: ufunc 'multiply' did not contain a loop with signature matching types (dtype([('RA', '<U13'), ('DEC', '<U13'), ('Distance_distance', '<f8')]), dtype('float64')) -> None"
     ]
    }
   ],
   "source": [
    "from astroquery.simbad import Simbad\n",
    "from ballesteros import ballesteros\n",
    "from cartesian import polar2cartesian\n",
    "\n",
    "# test star \"* tet Per\"\n",
    "parsec_distance = 2  # 15.33\n",
    "Simbad.add_votable_fields(\"distance\", \"diameter\", \"flux(R)\", \"flux(G)\", \"flux(B)\", \"flux(V)\")\n",
    "result_table = Simbad.query_criteria(\n",
    "    \"Distance.unit = 'pc'\",\n",
    "    f\"Distance.distance < {parsec_distance}\")\n",
    "result_table[\"TEMPERATURE\"] = ballesteros(result_table[\"FLUX_B\"], result_table[\"FLUX_V\"])\n",
    "result_table[\"x\", \"y\", \"z\"] = polar2cartesian(*result_table[\"RA\", \"DEC\", \"Distance_distance\"])\n",
    "result_table[\"MAIN_ID\", \"Diameter_diameter\", \"Distance_distance\", \"Distance_unit\", \"RA\", \"DEC\", \"TEMPERATURE\"]\n"
   ]
  }
 ],
 "metadata": {
  "kernelspec": {
   "display_name": "Python 3",
   "language": "python",
   "name": "python3"
  },
  "language_info": {
   "codemirror_mode": {
    "name": "ipython",
    "version": 3
   },
   "file_extension": ".py",
   "mimetype": "text/x-python",
   "name": "python",
   "nbconvert_exporter": "python",
   "pygments_lexer": "ipython3",
   "version": "3.12.0"
  }
 },
 "nbformat": 4,
 "nbformat_minor": 2
}
