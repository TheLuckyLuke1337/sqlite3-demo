{
 "cells": [
  {
   "cell_type": "code",
   "execution_count": 1,
   "metadata": {},
   "outputs": [
    {
     "name": "stdout",
     "output_type": "stream",
     "text": [
      "[7d00m53.003s 4d41m36.113s -62d40m46.164s -53d19m10.077s 20d02m22.617s]\n",
      "[ 0.12243001  0.08191467 -1.09396347 -0.93060023  0.34975728]\n"
     ]
    },
    {
     "data": {
      "text/html": [
       "<div><i>Table length=5</i>\n",
       "<table id=\"table2256979323760\" class=\"table-striped table-bordered table-condensed\">\n",
       "<thead><tr><th>MAIN_ID</th><th>Diameter_diameter</th><th>Distance_distance</th><th>Distance_unit</th><th>RA</th><th>DEC</th><th>TEMPERATURE</th><th>x</th><th>y</th><th>z</th></tr></thead>\n",
       "<thead><tr><th></th><th></th><th></th><th></th><th>&quot;h:m:s&quot;</th><th>&quot;d:m:s&quot;</th><th></th><th></th><th></th><th></th></tr></thead>\n",
       "<thead><tr><th>object</th><th>float64</th><th>float64</th><th>str4</th><th>str13</th><th>str13</th><th>float32</th><th>float64</th><th>float64</th><th>float64</th></tr></thead>\n",
       "<tr><td>Wolf  359</td><td>--</td><td>2.4086</td><td>pc</td><td>10 56 28.9208</td><td>+07 00 53.003</td><td>3134.4934</td><td>-2.299345247817044</td><td>0.6540962251168742</td><td>0.29414880524834797</td></tr>\n",
       "<tr><td>NAME Barnard&apos;s star</td><td>--</td><td>1.8282</td><td>pc</td><td>17 57 48.4984</td><td>+04 41 36.113</td><td>3478.695</td><td>-0.017424308621627423</td><td>-1.8219864907720569</td><td>0.14958897323393752</td></tr>\n",
       "<tr><td>NAME Proxima Centauri</td><td>--</td><td>1.3019</td><td>pc</td><td>14 29 42.9461</td><td>-62 40 46.164</td><td>3368.0872</td><td>-0.47450313821809476</td><td>-0.3631649866880336</td><td>-1.1566769532868977</td></tr>\n",
       "<tr><td>NAME Luhman 16</td><td>--</td><td>2.0000</td><td>pc</td><td>10 49 18.9153</td><td>-53 19 10.077</td><td>5742.13</td><td>-1.1383323669817245</td><td>0.36265753318559546</td><td>-1.603957273715707</td></tr>\n",
       "<tr><td>Gaia DR2 1824801659879180544</td><td>--</td><td>1.3526</td><td>pc</td><td>19 49 28.3420</td><td>+20 02 22.617</td><td>--</td><td>0.5841512143138302</td><td>-1.128479666288932</td><td>0.46349515810642317</td></tr>\n",
       "</table></div>"
      ],
      "text/plain": [
       "<Table length=5>\n",
       "          MAIN_ID            Diameter_diameter ...          z         \n",
       "                                               ...                    \n",
       "           object                 float64      ...       float64      \n",
       "---------------------------- ----------------- ... -------------------\n",
       "                   Wolf  359                -- ... 0.29414880524834797\n",
       "         NAME Barnard's star                -- ... 0.14958897323393752\n",
       "       NAME Proxima Centauri                -- ... -1.1566769532868977\n",
       "              NAME Luhman 16                -- ...  -1.603957273715707\n",
       "Gaia DR2 1824801659879180544                -- ... 0.46349515810642317"
      ]
     },
     "execution_count": 1,
     "metadata": {},
     "output_type": "execute_result"
    }
   ],
   "source": [
    "from astroquery.simbad import Simbad\n",
    "from ballesteros import ballesteros\n",
    "from cartesian import polar2cartesian\n",
    "\n",
    "# test star \"* tet Per\"\n",
    "parsec_distance = 2.5  # 15.33\n",
    "Simbad.add_votable_fields(\"distance\", \"diameter\", \"flux(R)\", \"flux(G)\", \"flux(B)\", \"flux(V)\")\n",
    "result_table = Simbad.query_criteria(\n",
    "    \"Distance.unit = 'pc'\",\n",
    "    f\"Distance.distance < {parsec_distance}\")\n",
    "result_table[\"TEMPERATURE\"] = ballesteros(result_table[\"FLUX_B\"], result_table[\"FLUX_V\"])\n",
    "result_table[\"x\"], result_table[\"y\"], result_table[\"z\"] = polar2cartesian(result_table[\"RA\"], result_table[\"DEC\"], result_table[\"Distance_distance\"])\n",
    "\n",
    "result_table[\"MAIN_ID\", \"Diameter_diameter\", \"Distance_distance\", \"Distance_unit\", \"RA\", \"DEC\", \"TEMPERATURE\", \"x\", \"y\", \"z\"]\n"
   ]
  }
 ],
 "metadata": {
  "kernelspec": {
   "display_name": "Python 3",
   "language": "python",
   "name": "python3"
  },
  "language_info": {
   "codemirror_mode": {
    "name": "ipython",
    "version": 3
   },
   "file_extension": ".py",
   "mimetype": "text/x-python",
   "name": "python",
   "nbconvert_exporter": "python",
   "pygments_lexer": "ipython3",
   "version": "3.12.2"
  }
 },
 "nbformat": 4,
 "nbformat_minor": 2
}
